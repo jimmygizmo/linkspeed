{
 "cells": [
  {
   "cell_type": "code",
   "id": "37964549b2de3f6c",
   "metadata": {},
   "source": [
    "\n",
    "# 1. Install Dependencies - NOTE: The 'minimal' image/kernel we are using actually has all of these already.\n",
    "# It is ok to attempt these installs and it is better to attempt them than assume the image has them all.\n",
    "# NOTE: Include the % at the start to ensure installation into the correct kernel/environment. (in .ipynb files)\n",
    "%pip install requests\n",
    "%pip install pandas\n",
    "%pip install geopandas\n",
    "%pip install mapboxgl\n",
    "%pip install shapely\n"
   ],
   "outputs": [],
   "execution_count": null
  },
  {
   "cell_type": "code",
   "id": "831044e3-4745-461a-bf98-3870b4924dab",
   "metadata": {},
   "source": [
    "# 2. Setup / Configuration\n",
    "import os\n",
    "import requests\n",
    "\n",
    "\n",
    "# TODO: Currently using default value as I don't have the needed ENV hooked up here yet. OK for BASE_URL.\n",
    "BASE_URL = os.environ.get('BASE_URL', 'http://linkspeed-fastapi:8000')\n",
    "print(f\"BASE_URL: {BASE_URL}\")\n",
    "\n",
    "# TODO: Currently using default value as I don't have the needed ENV hooked up here yet. OK for BASE_URL.\n",
    "#  For a secure API token, this is very undesireable for security as well as for repository integrity.\n",
    "#  Ideally I will be able to get ENV from the Docker Compose ENV which will get it from a .env file etc.\n",
    "MAPBOX_TOKEN = os.environ.get(\n",
    "        'MAPBOX_TOKEN',\n",
    "        'pk.eyJ1Ijoic21hcnRtZXRhbCIsImEiOiJjbWJnbnRhbHIwMHN5MmpvaDN5M2E3dnptIn0.OOMN3laXveAb-ep2U2WqsQ'\n",
    "    )\n",
    "print(f\"MAPBOX_TOKEN: {MAPBOX_TOKEN}\")\n"
   ],
   "outputs": [],
   "execution_count": null
  },
  {
   "metadata": {},
   "cell_type": "code",
   "source": [
    "# 3. Request aggregated data\n",
    "# Aggregates URL: BASE_URL/aggregates/\n",
    "\n",
    "\n",
    "params = {\n",
    "    'day': 'Wednesday',\n",
    "    'period': 'pm_peak',\n",
    "}\n",
    "\n",
    "\n",
    "# ONE SAMPLE - link_id = 16981048\n",
    "with requests.Session() as session:\n",
    "    session.headers.update({'User-Agent': 'LinkSpeed Assignment Jupyter Notebook - traffic.ipynb'})\n",
    "    response = session.request(method='GET', url=f\"{BASE_URL}/aggregates/16981048\", params=params)\n",
    "    print(response.status_code)\n",
    "    print(response.text)\n",
    "\n",
    "\n",
    "# ALL\n",
    "with requests.Session() as session:\n",
    "    session.headers.update({'User-Agent': 'LinkSpeed Assignment  Jupyter Notebook - traffic.ipynb'})\n",
    "    response = session.request(method='GET', url=f\"{BASE_URL}/aggregates\", params=params)\n",
    "    print(response.status_code)\n",
    "    print(response.text)\n",
    "\n"
   ],
   "id": "627cacd6f03724ac",
   "outputs": [],
   "execution_count": null
  }
 ],
 "metadata": {
  "kernelspec": {
   "display_name": "Python 3 (ipykernel)",
   "language": "python",
   "name": "python3"
  },
  "language_info": {
   "codemirror_mode": {
    "name": "ipython",
    "version": 3
   },
   "file_extension": ".py",
   "mimetype": "text/x-python",
   "name": "python",
   "nbconvert_exporter": "python",
   "pygments_lexer": "ipython3",
   "version": "3.12.10"
  }
 },
 "nbformat": 4,
 "nbformat_minor": 5
}
