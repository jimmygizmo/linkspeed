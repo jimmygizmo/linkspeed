{
 "cells": [
  {
   "cell_type": "code",
   "id": "37964549b2de3f6c",
   "metadata": {},
   "source": [
    "# 1. Install Dependencies\n",
    "%pip install requests pandas geopandas mapboxgl shapely --quiet\n"
   ],
   "outputs": [],
   "execution_count": null
  },
  {
   "cell_type": "code",
   "id": "831044e3-4745-461a-bf98-3870b4924dab",
   "metadata": {},
   "source": [
    "# 2. Setup / Configuration\n",
    "import os\n",
    "import requests\n",
    "\n",
    "BASE_URL = 'http://linkspeed-fastapi:8000'\n",
    "MAPBOX_TOKEN = 'pk.eyJ1Ijoic21hcnRtZXRhbCIsImEiOiJjbWJnbnRhbHIwMHN5MmpvaDN5M2E3dnptIn0.OOMN3laXveAb-ep2U2WqsQ'"
   ],
   "outputs": [],
   "execution_count": null
  },
  {
   "metadata": {},
   "cell_type": "code",
   "source": [
    "# 3. Request aggregated data\n",
    "params = {\n",
    "    'day': 'Wednesday',\n",
    "    'period': 'pm_peak',\n",
    "}\n",
    "\n",
    "# Example - Get a single Link with aggregated average speed and its metadata in GeoJSON format - link_id = 16981048\n",
    "with requests.Session() as session:\n",
    "    response = session.request(method='GET', url=f\"{BASE_URL}/aggregates/16981048\", params=params)\n",
    "    print(response.status_code)\n",
    "    print(response.text)\n",
    "\n",
    "# Get all links with aggregated average speeds and their metadata in a list of GeoJSON format objects\n",
    "geojson_data = []\n",
    "with requests.Session() as session:\n",
    "    response = session.request(method='GET', url=f\"{BASE_URL}/aggregates\", params=params)\n",
    "    print(response.status_code)\n",
    "    # print(response.text)  # Usually more than you want to print or scroll through.\n",
    "    geojson_data = response.json()\n",
    "\n"
   ],
   "id": "627cacd6f03724ac",
   "outputs": [],
   "execution_count": null
  },
  {
   "metadata": {},
   "cell_type": "code",
   "source": [
    "# 4. Visualize in Mapbox\n",
    "from mapboxgl.viz import ChoroplethViz\n",
    "from mapboxgl.utils import create_color_stops\n",
    "from IPython.display import IFrame\n",
    "\n",
    "# Assuming geojson_data is a list of Feature dicts\n",
    "features = [{\n",
    "    \"type\": \"Feature\",\n",
    "    \"geometry\": f[\"geometry\"],\n",
    "    \"properties\": {\n",
    "        \"average_speed\": f[\"properties\"][\"average_speed\"],\n",
    "        \"road_name\": f[\"properties\"][\"road_name\"]\n",
    "    }\n",
    "} for f in geojson_data]\n",
    "\n",
    "viz = ChoroplethViz(\n",
    "    {\n",
    "        \"type\": \"FeatureCollection\",\n",
    "        \"features\": features\n",
    "    },\n",
    "    access_token=MAPBOX_TOKEN,\n",
    "    color_property=\"average_speed\",\n",
    "    color_stops=create_color_stops([10, 20, 30, 40, 50], colors=\"Reds\"),\n",
    "    center=(-81.6557, 30.3322),\n",
    "    zoom=11,\n",
    "    line_width=1.5,\n",
    "    opacity=0.8,\n",
    ")\n",
    "\n",
    "viz.create_html('map.html')\n",
    "display(IFrame('map.html', width='100%', height=600))"
   ],
   "id": "e8196a4ec93b4f59",
   "outputs": [],
   "execution_count": null
  }
 ],
 "metadata": {
  "kernelspec": {
   "display_name": "Python 3 (ipykernel)",
   "language": "python",
   "name": "python3"
  },
  "language_info": {
   "codemirror_mode": {
    "name": "ipython",
    "version": 3
   },
   "file_extension": ".py",
   "mimetype": "text/x-python",
   "name": "python",
   "nbconvert_exporter": "python",
   "pygments_lexer": "ipython3",
   "version": "3.12.10"
  }
 },
 "nbformat": 4,
 "nbformat_minor": 5
}
