{
 "cells": [
  {
   "cell_type": "code",
   "id": "37964549b2de3f6c",
   "metadata": {},
   "source": [
    "\n",
    "# 1. Install Dependencies - NOTE: The 'minimal' image we are using actually has all of these already. It's ok to attempt these installs.\n",
    "# %pip install - in .ipynb files \"%pip install ...\" is the correct way to ensure installation into the correct environment (kernel)\n",
    "%pip install requests\n",
    "%pip install pandas\n",
    "%pip install geopandas\n",
    "%pip install mapboxgl\n",
    "%pip install shapely\n"
   ],
   "outputs": [],
   "execution_count": null
  },
  {
   "cell_type": "code",
   "id": "831044e3-4745-461a-bf98-3870b4924dab",
   "metadata": {},
   "source": [
    "# 2. Setup / Configuration\n",
    "import os\n",
    "import requests\n",
    "\n",
    "import os\n",
    "\n",
    "\n",
    "# TODO: It's fine for BASE_URL, but note it is using the default and not getting it from the environment.\n",
    "BASE_URL = os.environ.get('BASE_URL', 'http://localhost:48000')\n",
    "print(f\"BASE_URL: {BASE_URL}\")\n",
    "\n",
    "# TODO: For MAPBOX_TOKEN, it will be very desireable to get that from the environment for security and repo integrity reasons.\n",
    "#   Let's try to get this from the Docker Compose ENV which will get it from a .env file etc. That is the Best Practice in this case.\n",
    "MAPBOX_TOKEN = os.environ.get('MAPBOX_TOKEN', 'DEFAULT-fake-mapbox-token')\n",
    "print(f\"MAPBOX_TOKEN: {MAPBOX_TOKEN}\")\n"
   ],
   "outputs": [],
   "execution_count": null
  },
  {
   "metadata": {},
   "cell_type": "code",
   "source": [
    "# 3. Request aggregated data\n",
    "# Aggregates URL: BASE_URL/aggregates/\n",
    "\n",
    "params = {\n",
    "    'day': 'Monday',\n",
    "    'period': 'AM Peak',\n",
    "}\n",
    "\n",
    "# response = requests.get(f\"BASE_URL/aggregates/\", params=params)\n",
    "\n",
    "with requests.Session() as session:\n",
    "    session.headers.update({'User-Agent': 'Bedrock-GIS Jupyter Notebook - traffic.ipynb'})\n",
    "    # response = session.request(method='GET', url=f\"{BASE_URL}/aggregates/\", params=params)\n",
    "    response = session.request(method='GET', url=f\"{BASE_URL}/\", params=params)\n",
    "    print(response.status_code)\n",
    "    print(response.text)\n",
    "\n",
    "\n"
   ],
   "id": "627cacd6f03724ac",
   "outputs": [],
   "execution_count": null
  }
 ],
 "metadata": {
  "kernelspec": {
   "display_name": "Python 3 (ipykernel)",
   "language": "python",
   "name": "python3"
  },
  "language_info": {
   "codemirror_mode": {
    "name": "ipython",
    "version": 3
   },
   "file_extension": ".py",
   "mimetype": "text/x-python",
   "name": "python",
   "nbconvert_exporter": "python",
   "pygments_lexer": "ipython3",
   "version": "3.12.10"
  }
 },
 "nbformat": 4,
 "nbformat_minor": 5
}
